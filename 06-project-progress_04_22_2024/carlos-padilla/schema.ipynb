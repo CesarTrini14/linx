{
 "cells": [
  {
   "cell_type": "code",
   "execution_count": 1,
   "metadata": {},
   "outputs": [
    {
     "name": "stdout",
     "output_type": "stream",
     "text": [
      "Requirement already satisfied: sqlalchemy in /home/enigma/anaconda3/lib/python3.11/site-packages (2.0.25)\n",
      "Requirement already satisfied: sqlalchemy_schemadisplay in /home/enigma/anaconda3/lib/python3.11/site-packages (2.0)\n",
      "Requirement already satisfied: typing-extensions>=4.6.0 in /home/enigma/anaconda3/lib/python3.11/site-packages (from sqlalchemy) (4.9.0)\n",
      "Requirement already satisfied: greenlet!=0.4.17 in /home/enigma/anaconda3/lib/python3.11/site-packages (from sqlalchemy) (3.0.1)\n",
      "Requirement already satisfied: setuptools in /home/enigma/anaconda3/lib/python3.11/site-packages (from sqlalchemy_schemadisplay) (68.2.2)\n",
      "Requirement already satisfied: pydot in /home/enigma/anaconda3/lib/python3.11/site-packages (from sqlalchemy_schemadisplay) (2.0.0)\n",
      "Requirement already satisfied: Pillow in /home/enigma/anaconda3/lib/python3.11/site-packages (from sqlalchemy_schemadisplay) (10.2.0)\n",
      "Requirement already satisfied: pyparsing>=3 in /home/enigma/anaconda3/lib/python3.11/site-packages (from pydot->sqlalchemy_schemadisplay) (3.0.9)\n",
      "Note: you may need to restart the kernel to use updated packages.\n"
     ]
    }
   ],
   "source": [
    "pip install sqlalchemy sqlalchemy_schemadisplay\n"
   ]
  },
  {
   "cell_type": "code",
   "execution_count": 5,
   "metadata": {},
   "outputs": [
    {
     "name": "stderr",
     "output_type": "stream",
     "text": [
      "/tmp/ipykernel_3319179/525882594.py:6: MovedIn20Warning: The ``declarative_base()`` function is now available as sqlalchemy.orm.declarative_base(). (deprecated since: 2.0) (Background on SQLAlchemy 2.0 at: https://sqlalche.me/e/b8d9)\n",
      "  Base = declarative_base()\n"
     ]
    }
   ],
   "source": [
    "from sqlalchemy import create_engine, MetaData\n",
    "from sqlalchemy_schemadisplay import create_schema_graph\n",
    "from sqlalchemy.ext.declarative import declarative_base\n",
    "\n",
    "# Crear la base de datos de ejemplo\n",
    "Base = declarative_base()\n",
    "\n",
    "from sqlalchemy import Column, Integer, String, ForeignKey\n",
    "class Usuario(Base):\n",
    "    __tablename__ = 'usuarios'\n",
    "    id = Column(Integer, primary_key=True)\n",
    "    nombre = Column(String)\n",
    "\n",
    "class Publicacion(Base):\n",
    "    __tablename__ = 'publicaciones'\n",
    "    id = Column(Integer, primary_key=True)\n",
    "    titulo = Column(String)\n",
    "    usuario_id = Column(Integer, ForeignKey('usuarios.id'))\n",
    "\n",
    "# Conectar al motor de base de datos (ajusta la URL según tu base de datos)\n",
    "engine = create_engine('sqlite:///:memory:')\n",
    "Base.metadata.create_all(engine)\n",
    "\n",
    "# Crear un objeto de metadatos\n",
    "metadata = MetaData()\n",
    "metadata.reflect(bind=engine)  # Cargar la metadata usando reflect\n",
    "\n",
    "# Construir el gráfico del esquema\n",
    "graph = create_schema_graph(metadata=metadata,\n",
    "                            engine=engine,  # Añadir el motor de base de datos aquí\n",
    "                            show_datatypes=False,  # Los tipos de datos no son necesarios\n",
    "                            show_indexes=False,    # Los índices no son necesarios\n",
    "                            rankdir='TB',          # De arriba para abajo\n",
    "                            concentrate=False)     # No unir los nodos\n",
    "graph.write_png('schema_diagram.png')  # Guardar el diagrama en un archivo PNG\n"
   ]
  }
 ],
 "metadata": {
  "kernelspec": {
   "display_name": "base",
   "language": "python",
   "name": "python3"
  },
  "language_info": {
   "codemirror_mode": {
    "name": "ipython",
    "version": 3
   },
   "file_extension": ".py",
   "mimetype": "text/x-python",
   "name": "python",
   "nbconvert_exporter": "python",
   "pygments_lexer": "ipython3",
   "version": "3.11.7"
  }
 },
 "nbformat": 4,
 "nbformat_minor": 2
}
