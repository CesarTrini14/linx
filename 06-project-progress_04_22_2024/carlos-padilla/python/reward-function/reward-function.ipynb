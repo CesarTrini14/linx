{
  "nbformat": 4,
  "nbformat_minor": 0,
  "metadata": {
    "colab": {
      "provenance": []
    },
    "kernelspec": {
      "name": "python3",
      "display_name": "Python 3"
    },
    "language_info": {
      "name": "python"
    }
  },
  "cells": [
    {
      "cell_type": "code",
      "execution_count": null,
      "metadata": {
        "id": "KMLFlEnCH8kt"
      },
      "outputs": [],
      "source": [
        "import numpy as np\n",
        "#importamos las bibliotecas que usaremos"
      ]
    },
    {
      "cell_type": "markdown",
      "source": [
        "#Definimos la función de recompensa\n",
        "\\begin{equation*}\n",
        "    \\xi _j = S_jP_je^{\\left(\\frac{(t_{j}^{E})-t_{j}^{R}}{\\sigma}\\right)^2}+(P_j^D)(d_j)({g(k))}\n",
        "  \\end{equation*}\n"
      ],
      "metadata": {
        "id": "BUJDTLW0I7_E"
      }
    },
    {
      "cell_type": "code",
      "source": [
        "def xi_j(S_j, P_j, t_j_E, t_j_R, sigma, P_j_D, d_j, g_k):\n",
        "    return S_j * P_j * np.exp(((t_j_E - t_j_R) / sigma) ** 2) + (P_j_D * d_j * g_k)"
      ],
      "metadata": {
        "id": "ALZI15XQIkZ1"
      },
      "execution_count": null,
      "outputs": []
    },
    {
      "cell_type": "markdown",
      "source": [
        "#Definimos la metrica de desempeño general para el nano satelite\n",
        "\\begin{equation*}\n",
        "\\mathcal{\\xi} = \\sum_{j=1}^{J} \\mathcal{\\xi}_j + \\frac{\\alpha}{N} \\sum_{i=1}^{N} \\left( \\frac{E_i - E_L}{E_{max} - E_L} \\right)\n",
        "\\end{equation*}"
      ],
      "metadata": {
        "id": "FYzN7i-lJd93"
      }
    },
    {
      "cell_type": "code",
      "source": [
        "def xi(xi_j_values, alpha, E, E_L, E_max):\n",
        "    J = len(xi_j_values)\n",
        "    N = len(E)\n",
        "    sum_xi_j = np.sum(xi_j_values)\n",
        "    sum_battery = np.sum((E - E_L) / (E_max - E_L))\n",
        "    return sum_xi_j + (alpha / N) * sum_battery\n"
      ],
      "metadata": {
        "id": "r7s6qUoJIlli"
      },
      "execution_count": null,
      "outputs": []
    },
    {
      "cell_type": "markdown",
      "source": [
        "##Ejemplo de uso de la función"
      ],
      "metadata": {
        "id": "AbzrsuE1J6nq"
      }
    },
    {
      "cell_type": "code",
      "source": [
        "# Example usage\n",
        "S_j = 1\n",
        "P_j = 1\n",
        "t_j_E = 10\n",
        "t_j_R = 5\n",
        "sigma = 2\n",
        "P_j_D = 1\n",
        "d_j = 0.5\n",
        "g_k = 0.1\n",
        "\n",
        "xi_j_value = xi_j(S_j, P_j, t_j_E, t_j_R, sigma, P_j_D, d_j, g_k)\n",
        "\n",
        "alpha = 0.5\n",
        "E = np.array([0.1, 0.2, 0.3])\n",
        "E_L = 0.0\n",
        "E_max = 1.0\n",
        "\n",
        "xi_value = xi([xi_j_value], alpha, E, E_L, E_max)\n",
        "\n",
        "print(\"Value of xi_j:\", xi_j_value)\n",
        "print(\"Value of xi:\", xi_value)\n"
      ],
      "metadata": {
        "colab": {
          "base_uri": "https://localhost:8080/"
        },
        "id": "YYFwTXCMIvyO",
        "outputId": "f6fdda47-a1da-407a-a568-783d400015a8"
      },
      "execution_count": null,
      "outputs": [
        {
          "output_type": "stream",
          "name": "stdout",
          "text": [
            "Value of xi_j: 518.0628246683419\n",
            "Value of xi: 518.162824668342\n"
          ]
        }
      ]
    }
  ]
}