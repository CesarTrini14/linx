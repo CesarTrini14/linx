{
  "cells": [
    {
      "cell_type": "markdown",
      "metadata": {
        "id": "gJm5Fnrgmg77"
      },
      "source": []
    },
    {
      "cell_type": "markdown",
      "metadata": {
        "id": "JOTxSeYQmh7J"
      },
      "source": [
        "Importamos las funciones"
      ]
    },
    {
      "cell_type": "code",
      "execution_count": null,
      "metadata": {
        "id": "UU6rw2rGli-6"
      },
      "outputs": [],
      "source": [
        "import numpy as np\n",
        "import random\n"
      ]
    },
    {
      "cell_type": "markdown",
      "metadata": {
        "id": "ynxgrgA9mBpn"
      },
      "source": [
        "primera función"
      ]
    },
    {
      "cell_type": "markdown",
      "metadata": {
        "id": "PrBVQ27tmenT"
      },
      "source": []
    },
    {
      "cell_type": "code",
      "execution_count": null,
      "metadata": {
        "id": "f9TxRzplmDko"
      },
      "outputs": [],
      "source": [
        "# Módulo 1: Ajuste de Prioridades\n",
        "def ajustar_prioridades(tareas):\n",
        "    # Asegurar que los extremos no cambien\n",
        "    tareas_ajustadas = [0, *sorted(tareas[1:-1]), 1]\n",
        "    tarea1 = peso1\n",
        "    peso1(random.uniform(0, 1))\n",
        "    tarea2 = peso2\n",
        "    tarea3 = peso3\n",
        "    tarea4 = peso4\n",
        "    tarea 5 = peso5\n",
        "    # Aplicar un ajuste simple: promedio entre el valor actual y el anterior ajustado\n",
        "    for i in range(2, len(tareas_ajustadas) - 1):\n",
        "        tareas_ajustadas[i] = (tareas_ajustadas[i] + tareas_ajustadas[i - 1]) / 2\n",
        "\n",
        "    return tareas_ajustadas\n",
        "\n"
      ]
    },
    {
      "cell_type": "code",
      "execution_count": null,
      "metadata": {
        "id": "khX1j0nUmFMS"
      },
      "outputs": [],
      "source": [
        "# Módulo 2: Función de Consumo\n",
        "def funcion_consumo(tareas_ajustadas):\n",
        "    # Supongamos que el consumo es proporcional al cuadrado de la prioridad\n",
        "    consumo = [t ** 2 for t in tareas_ajustadas]\n",
        "    return consumo\n",
        "\n"
      ]
    },
    {
      "cell_type": "code",
      "execution_count": null,
      "metadata": {
        "id": "duVAkc2GmGuX"
      },
      "outputs": [],
      "source": [
        "# Lista de ejemplo de tareas con prioridades aleatorias\n",
        "tareas = np.random.rand(5)\n",
        "tareas[0] = 0  # Asegurar el valor mínimo\n",
        "tareas[-1] = 1  # Asegurar el valor máximo\n",
        "\n"
      ]
    },
    {
      "cell_type": "code",
      "execution_count": null,
      "metadata": {
        "id": "vjY7tSELmIGz"
      },
      "outputs": [],
      "source": [
        "# Ajustar las prioridades\n",
        "tareas_ajustadas = ajustar_prioridades(tareas)\n",
        "\n"
      ]
    },
    {
      "cell_type": "code",
      "execution_count": null,
      "metadata": {
        "id": "sk3unwhvmJU4"
      },
      "outputs": [],
      "source": [
        "# Calcular el consumo\n",
        "consumo = funcion_consumo(tareas_ajustadas)\n",
        "\n",
        "tareas, tareas_ajustadas, consumo"
      ]
    }
  ],
  "metadata": {
    "colab": {
      "provenance": []
    },
    "kernelspec": {
      "display_name": "Python 3",
      "name": "python3"
    },
    "language_info": {
      "name": "python"
    }
  },
  "nbformat": 4,
  "nbformat_minor": 0
}
