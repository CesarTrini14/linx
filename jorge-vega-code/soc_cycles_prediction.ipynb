{
  "cells": [
    {
      "cell_type": "markdown",
      "source": [
        "initializes a neural network using Keras, with a single dense layer, and imports necessary mathematical and array manipulation libraries."
      ],
      "metadata": {
        "id": "s2KBrlT6Y9IL"
      },
      "id": "s2KBrlT6Y9IL"
    },
    {
      "cell_type": "code",
      "source": [
        "import numpy as np\n",
        "from math import pi, cos\n",
        "from keras.models import Sequential\n",
        "from keras.layers import Dense"
      ],
      "metadata": {
        "id": "NhJIKso7YzX6"
      },
      "id": "NhJIKso7YzX6",
      "execution_count": null,
      "outputs": []
    },
    {
      "cell_type": "markdown",
      "source": [
        "This code defines variables for a simulation or calculation: the final time (TFinal), the time step (Dt), the constant K, the efficiency (Eff) of a system or process, and the maximum power output (PtMaxPanel) of a solar panel or similar device."
      ],
      "metadata": {
        "id": "XLiLdF-vZAgi"
      },
      "id": "XLiLdF-vZAgi"
    },
    {
      "cell_type": "code",
      "source": [
        "TFinal = 97.0\n",
        "Dt = 1.0\n",
        "K = 191.1\n",
        "Eff = 21.528 / 100\n",
        "PtMaxPanel = 24.24"
      ],
      "metadata": {
        "id": "9ZHybAXBZFV_"
      },
      "id": "9ZHybAXBZFV_",
      "execution_count": null,
      "outputs": []
    },
    {
      "cell_type": "markdown",
      "source": [
        "\n",
        "This function calculates the available power at a given time, adjusting for phase, efficiency, and a scaling factor, ensuring it never goes negative. It then generates a series of power values over specified time intervals, incorporating a random phase shift."
      ],
      "metadata": {
        "id": "9XKM7ka8Zeez"
      },
      "id": "9XKM7ka8Zeez"
    },
    {
      "cell_type": "code",
      "source": [
        "def available_power(t, phase, k, efficiency, pt_max_panel):\n",
        "    return max(pt_max_panel * cos(2 * pi * t / TFinal + phase) * efficiency * k, 0)\n",
        "\n",
        "phase = np.random.rand() * 2 * pi\n",
        "times = np.arange(0, TFinal + Dt, Dt)\n",
        "powers = [available_power(t, phase, K, Eff, PtMaxPanel) for t in times]"
      ],
      "metadata": {
        "id": "5PJfc3RGZcia"
      },
      "id": "5PJfc3RGZcia",
      "execution_count": null,
      "outputs": []
    },
    {
      "cell_type": "markdown",
      "source": [
        "This function computes the first and second numerical derivatives of a dataset, using finite difference methods, given the dataset and time step size."
      ],
      "metadata": {
        "id": "kXavjZCVZtuT"
      },
      "id": "kXavjZCVZtuT"
    },
    {
      "cell_type": "code",
      "source": [
        "def calculate_derivatives(data, dt):\n",
        "    d1 = np.zeros(len(data))\n",
        "    d2 = np.zeros(len(data))\n",
        "    for i in range(2, len(data)):\n",
        "        d1[i] = (data[i] - data[i - 1]) / dt\n",
        "        if i > 2:\n",
        "            d2[i] = (data[i] - 2 * data[i - 1] + data[i - 2]) / (dt ** 2)\n",
        "    return d1, d2"
      ],
      "metadata": {
        "id": "AEfP2v_IZuWK"
      },
      "id": "AEfP2v_IZuWK",
      "execution_count": null,
      "outputs": []
    },
    {
      "cell_type": "markdown",
      "source": [
        "The function label_data calculates the time until the next charging event for each time point in a power data array, working backwards and using a specified time interval dt."
      ],
      "metadata": {
        "id": "UWBiVPBIiicI"
      },
      "id": "UWBiVPBIiicI"
    },
    {
      "cell_type": "code",
      "source": [
        "def label_data(powers, dt):\n",
        "    labels = np.zeros(len(powers))\n",
        "    countdown = 0\n",
        "    charging = powers[0] > 0\n",
        "\n",
        "    for i in reversed(range(len(powers))):\n",
        "        if powers[i] > 0:\n",
        "            charging = True\n",
        "            countdown = 0\n",
        "        elif charging:\n",
        "            charging = False\n",
        "            countdown = 0\n",
        "        else:\n",
        "            countdown += dt\n",
        "\n",
        "        labels[i] = countdown\n",
        "    return labels"
      ],
      "metadata": {
        "id": "1vEFlXaQij8Q"
      },
      "id": "1vEFlXaQij8Q",
      "execution_count": null,
      "outputs": []
    },
    {
      "cell_type": "code",
      "execution_count": null,
      "id": "c586639e-596c-48c9-9b12-3eed7f40c58d",
      "metadata": {
        "colab": {
          "base_uri": "https://localhost:8080/"
        },
        "id": "c586639e-596c-48c9-9b12-3eed7f40c58d",
        "outputId": "c74768ef-5ee4-497a-f3a9-e1e7130ff493"
      },
      "outputs": [
        {
          "output_type": "stream",
          "name": "stdout",
          "text": [
            "1/1 [==============================] - 0s 75ms/step\n",
            "Pasos predichos hasta el próximo ciclo de carga: 22.081836700439453\n"
          ]
        }
      ],
      "source": [
        "labels = label_data(powers, Dt)\n",
        "socs = np.cumsum(powers)\n",
        "soc_derivs, soc_derivs2 = calculate_derivatives(socs, Dt)\n",
        "features = np.vstack([soc_derivs, soc_derivs2]).T\n",
        "features = features[2:]\n",
        "labels = labels[2:]\n",
        "\n",
        "model = Sequential([\n",
        "    Dense(64, input_dim=2, activation='relu'),\n",
        "    Dense(64, activation='relu'),\n",
        "    Dense(1, activation='linear')\n",
        "])\n",
        "\n",
        "model.compile(optimizer='adam', loss='mean_squared_error')\n",
        "\n",
        "model.fit(features, labels, epochs=10, batch_size=1, verbose=0)\n",
        "test_index = 30  # Un momento cualquiera\n",
        "test_features = np.array([[soc_derivs[test_index], soc_derivs2[test_index]]])\n",
        "predicted_steps = model.predict(test_features)\n",
        "print(f\"Pasos predichos hasta el próximo ciclo de carga: {predicted_steps[0][0]}\")"
      ]
    },
    {
      "cell_type": "code",
      "execution_count": null,
      "id": "5bf7f2d1-e922-4541-b1e7-45bee5e397bc",
      "metadata": {
        "id": "5bf7f2d1-e922-4541-b1e7-45bee5e397bc"
      },
      "outputs": [],
      "source": []
    }
  ],
  "metadata": {
    "kernelspec": {
      "display_name": "Python 3 (ipykernel)",
      "language": "python",
      "name": "python3"
    },
    "language_info": {
      "codemirror_mode": {
        "name": "ipython",
        "version": 3
      },
      "file_extension": ".py",
      "mimetype": "text/x-python",
      "name": "python",
      "nbconvert_exporter": "python",
      "pygments_lexer": "ipython3",
      "version": "3.11.5"
    },
    "colab": {
      "provenance": []
    }
  },
  "nbformat": 4,
  "nbformat_minor": 5
}