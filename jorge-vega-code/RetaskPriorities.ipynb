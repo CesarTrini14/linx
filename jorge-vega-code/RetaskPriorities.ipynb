{
  "cells": [
    {
      "cell_type": "markdown",
      "source": [],
      "metadata": {
        "id": "jNv0bt4M2zQY"
      },
      "id": "jNv0bt4M2zQY"
    },
    {
      "cell_type": "code",
      "source": [
        "from keras.models import Sequential  # Import the Sequential model type from Keras; it's a linear stack of layers.\n",
        "from keras.layers import Dense       # Import the Dense layer; a fully connected neural network layer.\n",
        "from keras.layers import Input       # Import the Input layer; used to specify the input shape of the model.\n",
        "import numpy as np                   # Import NumPy, a fundamental package for scientific computing in Python."
      ],
      "metadata": {
        "id": "djlAoWyO2xmx"
      },
      "id": "djlAoWyO2xmx",
      "execution_count": null,
      "outputs": []
    },
    {
      "cell_type": "code",
      "source": [
        "def create_priority_network(input_shape):\n",
        "    # Initialize a Sequential model with a defined input shape and three layers.\n",
        "    model = Sequential([\n",
        "        Input(shape=(input_shape,)),  # Define the input layer with the specified input shape.\n",
        "        Dense(64, activation='relu'),  # Add a fully connected layer with 64 neurons and ReLU activation.\n",
        "        Dense(64, activation='relu'),  # Add another fully connected layer with 64 neurons and ReLU activation.\n",
        "        Dense(1, activation='sigmoid')  # Output layer with 1 neuron and sigmoid activation for binary classification or priority estimation.\n",
        "    ])\n",
        "    model.compile(optimizer='adam', loss='mean_squared_error')  # Compile the model with Adam optimizer and MSE loss.\n",
        "    return model  # Return the compiled model.\n"
      ],
      "metadata": {
        "id": "AsYm6Jvm3R83"
      },
      "id": "AsYm6Jvm3R83",
      "execution_count": null,
      "outputs": []
    },
    {
      "cell_type": "code",
      "source": [
        "# Define an array of task features, where each task is a row and each column is a feature.\n",
        "# Example features could include duration, priority, and complexity for each task.\n",
        "tasks_features = np.array\n",
        "([\n",
        "    [150, 10, 5],  # Features of the first task.\n",
        "    [2.0, 30, 1],  # Features of the second task.\n",
        "    [1.0, 50, 5],  # Features of the third task.\n",
        "    [2.5, 70, 1],  # Features of the fourth task.\n",
        "])"
      ],
      "metadata": {
        "colab": {
          "base_uri": "https://localhost:8080/"
        },
        "id": "hgeqT0J63e__",
        "outputId": "cd398dd2-50f8-4490-e1f2-1f306a3ec092"
      },
      "id": "hgeqT0J63e__",
      "execution_count": null,
      "outputs": [
        {
          "output_type": "execute_result",
          "data": {
            "text/plain": [
              "[[150, 10, 5], [2.0, 30, 1], [1.0, 50, 5], [2.5, 70, 1]]"
            ]
          },
          "metadata": {},
          "execution_count": 5
        }
      ]
    },
    {
      "cell_type": "code",
      "execution_count": null,
      "id": "794f42b3-cae4-4976-b85d-454ee65d3ee5",
      "metadata": {
        "colab": {
          "base_uri": "https://localhost:8080/",
          "height": 263
        },
        "id": "794f42b3-cae4-4976-b85d-454ee65d3ee5",
        "outputId": "e8adf68e-5cca-4e83-fd94-80a5cc6442c2"
      },
      "outputs": [
        {
          "output_type": "stream",
          "name": "stdout",
          "text": [
            "1/1 [==============================] - 0s 473ms/step\n",
            "Ejecutando tarea 2 con prioridad ajustada 0.9121913313865662\n",
            "Ejecutando tarea 3 con prioridad ajustada 0.39984673261642456\n",
            "Ejecutando tarea 4 con prioridad ajustada 0.30260729789733887\n",
            "Ejecutando tarea 1 con prioridad ajustada 0.2007797807455063\n"
          ]
        },
        {
          "output_type": "error",
          "ename": "NameError",
          "evalue": "name 'printl' is not defined",
          "traceback": [
            "\u001b[0;31m---------------------------------------------------------------------------\u001b[0m",
            "\u001b[0;31mNameError\u001b[0m                                 Traceback (most recent call last)",
            "\u001b[0;32m<ipython-input-1-d4dbbf1f13a9>\u001b[0m in \u001b[0;36m<cell line: 44>\u001b[0;34m()\u001b[0m\n\u001b[1;32m     42\u001b[0m                                      {'TaskID': 4, 'Power': 2.5, 'StartTime': 70, 'Duration': 1}],\n\u001b[1;32m     43\u001b[0m                               adjusted_priorities=adjusted_priorities)\n\u001b[0;32m---> 44\u001b[0;31m \u001b[0mprintl\u001b[0m\u001b[0;34m\u001b[0m\u001b[0;34m\u001b[0m\u001b[0m\n\u001b[0m",
            "\u001b[0;31mNameError\u001b[0m: name 'printl' is not defined"
          ]
        }
      ],
      "source": [
        "tasks_features_normalized = (tasks_features - tasks_features.mean(axis=0)) / tasks_features.std(axis=0)\n",
        "\n",
        "existing_priorities = np.array([0.2, 1, 0.4, 0.3])\n",
        "\n",
        "priority_network = create_priority_network(input_shape=tasks_features_normalized.shape[1])\n",
        "priority_network.fit(tasks_features_normalized, existing_priorities, epochs=100, verbose=0)\n",
        "\n",
        "adjusted_priorities = priority_network.predict(tasks_features_normalized).flatten()\n",
        "\n",
        "def discrete_consumption_function(tasks, adjusted_priorities):\n",
        "    sorted_tasks = sorted(zip(tasks, adjusted_priorities), key=lambda x: x[1], reverse=True)\n",
        "\n",
        "    for task, priority in sorted_tasks:\n",
        "        print(f\"Ejecutando tarea {task['TaskID']} con prioridad ajustada {priority}\")\n",
        "\n",
        "discrete_consumption_function(tasks=[{'TaskID': 1, 'Power': 150, 'StartTime': 10, 'Duration': 5},\n",
        "                                     {'TaskID': 2, 'Power': 2.0, 'StartTime': 30, 'Duration': 1},\n",
        "                                     {'TaskID': 3, 'Power': 1.0, 'StartTime': 50, 'Duration': 5},\n",
        "                                     {'TaskID': 4, 'Power': 2.5, 'StartTime': 70, 'Duration': 1}],\n",
        "                              adjusted_priorities=adjusted_priorities)\n",
        "printl"
      ]
    },
    {
      "cell_type": "code",
      "execution_count": null,
      "id": "3254c049-1632-4b3b-b086-19a30a9232fe",
      "metadata": {
        "id": "3254c049-1632-4b3b-b086-19a30a9232fe"
      },
      "outputs": [],
      "source": []
    }
  ],
  "metadata": {
    "kernelspec": {
      "display_name": "Python 3 (ipykernel)",
      "language": "python",
      "name": "python3"
    },
    "language_info": {
      "codemirror_mode": {
        "name": "ipython",
        "version": 3
      },
      "file_extension": ".py",
      "mimetype": "text/x-python",
      "name": "python",
      "nbconvert_exporter": "python",
      "pygments_lexer": "ipython3",
      "version": "3.11.5"
    },
    "colab": {
      "provenance": []
    }
  },
  "nbformat": 4,
  "nbformat_minor": 5
}