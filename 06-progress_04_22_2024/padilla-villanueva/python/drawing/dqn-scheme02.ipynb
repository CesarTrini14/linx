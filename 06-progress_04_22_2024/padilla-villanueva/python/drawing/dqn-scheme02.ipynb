{
 "cells": [
  {
   "cell_type": "code",
   "execution_count": 1,
   "metadata": {},
   "outputs": [],
   "source": [
    "import matplotlib.pyplot as plt\n",
    "import matplotlib.patches as patches"
   ]
  },
  {
   "cell_type": "code",
   "execution_count": 2,
   "metadata": {},
   "outputs": [
    {
     "data": {
      "image/png": "[encoded data removed]",
      "text/plain": [
       "<Figure size 700x336 with 1 Axes>"
      ]
     },
     "metadata": {},
     "output_type": "display_data"
    }
   ],
   "source": [
    "# Create a figure and a single subplot\n",
    "fig, ax = plt.subplots(figsize=(7, 3.36))"
   ]
  },
  {
   "cell_type": "code",
   "execution_count": 3,
   "metadata": {},
   "outputs": [
    {
     "data": {
      "text/plain": [
       "(0.0, 1.0, 0.0, 1.0)"
      ]
     },
     "execution_count": 3,
     "metadata": {},
     "output_type": "execute_result"
    }
   ],
   "source": [
    "# Hide axes\n",
    "ax.axis('off')\n",
    "plt.show()\n"
   ]
  },
  {
   "cell_type": "code",
   "execution_count": 4,
   "metadata": {},
   "outputs": [
    {
     "data": {
      "text/plain": [
       "<matplotlib.patches.Rectangle at 0x7f83c624d090>"
      ]
     },
     "execution_count": 4,
     "metadata": {},
     "output_type": "execute_result"
    }
   ],
   "source": [
    "# Agent and Environment boxes\n",
    "agent_rect = patches.Rectangle((0.4, 0.6), 0.2, 0.2, linewidth=1, edgecolor='black', facecolor='none')\n",
    "env_rect = patches.Rectangle((0.4, 0.2), 0.2, 0.2, linewidth=1, edgecolor='black', facecolor='none')\n",
    "ax.add_patch(agent_rect)\n",
    "ax.add_patch(env_rect)\n"
   ]
  },
  {
   "cell_type": "code",
   "execution_count": 5,
   "metadata": {},
   "outputs": [
    {
     "data": {
      "text/plain": [
       "Text(0.8, 0.23, '$S_{t+1}$')"
      ]
     },
     "execution_count": 5,
     "metadata": {},
     "output_type": "execute_result"
    }
   ],
   "source": [
    "# Labels\n",
    "ax.text(0.5, 0.7, 'Agent', horizontalalignment='center', verticalalignment='center')\n",
    "ax.text(0.5, 0.3, 'Environment', horizontalalignment='center', verticalalignment='center')\n",
    "ax.text(0.1, 0.67, 'state $S_t$', horizontalalignment='left', verticalalignment='center')\n",
    "ax.text(0.1, 0.37, 'reward $R_t$', horizontalalignment='left', verticalalignment='center')\n",
    "ax.text(0.85, 0.67, 'action $A_t$', horizontalalignment='right', verticalalignment='center')\n",
    "ax.text(0.8, 0.37, '$R_{t+1}$', horizontalalignment='left', verticalalignment='center')\n",
    "ax.text(0.8, 0.23, '$S_{t+1}$', horizontalalignment='left', verticalalignment='center')\n"
   ]
  },
  {
   "cell_type": "code",
   "execution_count": 6,
   "metadata": {},
   "outputs": [
    {
     "data": {
      "text/plain": [
       "Text(0.55, 0.25, '')"
      ]
     },
     "execution_count": 6,
     "metadata": {},
     "output_type": "execute_result"
    }
   ],
   "source": [
    "# Arrows\n",
    "ax.annotate('', xy=(0.4, 0.7), xytext=(0.1, 0.7), arrowprops=dict(arrowstyle='<|-', lw=1))\n",
    "ax.annotate('', xy=(0.6, 0.7), xytext=(0.85, 0.7), arrowprops=dict(arrowstyle='<|-', lw=1))\n",
    "ax.annotate('', xy=(0.6, 0.3), xytext=(0.4, 0.3), arrowprops=dict(arrowstyle='<|-', lw=1))\n",
    "ax.annotate('', xy=(0.4, 0.3), xytext=(0.1, 0.3), arrowprops=dict(arrowstyle='<|-', lw=1))\n",
    "# Loop arrow from Environment to Agent\n",
    "ax.annotate('', xy=(0.55, 0.75), xytext=(0.55, 0.25), arrowprops=dict(arrowstyle='<|-', lw=1, connectionstyle='arc3,rad=.5'))"
   ]
  },
  {
   "cell_type": "code",
   "execution_count": 7,
   "metadata": {},
   "outputs": [
    {
     "data": {
      "text/plain": [
       "Text(0.7, 0.3, '')"
      ]
     },
     "execution_count": 7,
     "metadata": {},
     "output_type": "execute_result"
    }
   ],
   "source": [
    "# Dashed line from Environment forward\n",
    "ax.annotate('', xy=(0.7, 0.3), xytext=(0.8, 0.3), arrowprops=dict(arrowstyle='<|-', lw=1, linestyle='dashed'))\n",
    "\n",
    "# Dashed line down from the action arrow\n",
    "ax.annotate('', xy=(0.7, 0.7), xytext=(0.7, 0.3), arrowprops=dict(arrowstyle='<|-', lw=1, linestyle='dashed'))"
   ]
  },
  {
   "cell_type": "code",
   "execution_count": 10,
   "metadata": {},
   "outputs": [
    {
     "data": {
      "text/plain": [
       "<Figure size 640x480 with 0 Axes>"
      ]
     },
     "metadata": {},
     "output_type": "display_data"
    }
   ],
   "source": [
    "# Saving the figure\n",
    "plt.savefig('agent_environment_diagram.png', bbox_inches='tight', dpi=300)\n",
    "plt.show()\n"
   ]
  }
 ],
 "metadata": {
  "kernelspec": {
   "display_name": "base",
   "language": "python",
   "name": "python3"
  },
  "language_info": {
   "codemirror_mode": {
    "name": "ipython",
    "version": 3
   },
   "file_extension": ".py",
   "mimetype": "text/x-python",
   "name": "python",
   "nbconvert_exporter": "python",
   "pygments_lexer": "ipython3",
   "version": "3.11.7"
  }
 },
 "nbformat": 4,
 "nbformat_minor": 2
}
