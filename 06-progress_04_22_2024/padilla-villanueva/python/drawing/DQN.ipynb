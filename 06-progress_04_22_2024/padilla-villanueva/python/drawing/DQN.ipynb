{
 "cells": [
  {
   "cell_type": "code",
   "execution_count": 74,
   "metadata": {},
   "outputs": [],
   "source": [
    "import matplotlib.pyplot as plt\n",
    "from matplotlib.patches import FancyBboxPatch, ArrowStyle, FancyArrowPatch\n",
    "from matplotlib.text import Annotation"
   ]
  },
  {
   "cell_type": "code",
   "execution_count": 75,
   "metadata": {},
   "outputs": [],
   "source": [
    "# Define a class to draw the blocks and arrows of the diagram\n",
    "class BlockDiagram:\n",
    "    def __init__(self, ax):\n",
    "        self.ax = ax\n",
    "        self.blocks = {}\n",
    "        self.arrows = []\n",
    "        \n",
    "    def add_block(self, name, center, width, height):\n",
    "        self.blocks[name] = (center, width, height)\n",
    "        self.ax.add_patch(plt.Rectangle(\n",
    "            (center[0] - width/2, center[1] - height/2), width, height, fill=None, edgecolor='k')\n",
    "        )\n",
    "        self.ax.text(center[0], center[1], name, fontsize=14, va='center', ha='center')\n",
    "    \n",
    "    def add_arrow(self, start, end, text=None, text_pos=None, bidirectional=False):\n",
    "        self.arrows.append((start, end))\n",
    "        arrow_style = FancyArrowPatch(\n",
    "            start, end, connectionstyle='arc3,rad=0.1', arrowstyle='<|-|>', mutation_scale=10, lw=1.5\n",
    "        )\n",
    "        self.ax.add_patch(arrow_style)\n",
    "        if text:\n",
    "            if not text_pos:\n",
    "                # Default position is the midpoint of the arrow\n",
    "                text_pos = ((start[0] + end[0]) / 2, (start[1] + end[1]) / 2)\n",
    "            self.ax.text(text_pos[0], text_pos[1], text, fontsize=10, va='center', ha='center')\n",
    "        if bidirectional:\n",
    "            arrow_style = FancyArrowPatch(\n",
    "                end, start, connectionstyle='arc3,rad=-0.1', arrowstyle='-|>', mutation_scale=10, lw=1.5, color='k'\n",
    "            )\n",
    "            self.ax.add_patch(arrow_style)\n",
    "        "
   ]
  },
  {
   "cell_type": "code",
   "execution_count": 76,
   "metadata": {},
   "outputs": [
    {
     "data": {
      "image/png": "[encoded data removed]",
      "text/plain": [
       "<Figure size 1000x500 with 1 Axes>"
      ]
     },
     "metadata": {},
     "output_type": "display_data"
    }
   ],
   "source": [
    "# Initialize the figure and block diagram\n",
    "fig, ax = plt.subplots(figsize=(10, 5))\n",
    "ax.axis('off')\n",
    "bd = BlockDiagram(ax)"
   ]
  },
  {
   "cell_type": "code",
   "execution_count": 77,
   "metadata": {},
   "outputs": [],
   "source": [
    "# Add blocks\n",
    "bd.add_block('Agent', (0.3, 0.75), 0.2, 0.15)\n",
    "bd.add_block('Environment', (0.3, 0.25), 0.2, 0.15)\n"
   ]
  },
  {
   "cell_type": "code",
   "execution_count": 78,
   "metadata": {},
   "outputs": [],
   "source": [
    "# Add arrows\n",
    "bd.add_arrow((0.3, 0.85), (0.3, 0.95), 'action A_t', text_pos=(0.3, 0.9))\n",
    "bd.add_arrow((0.3, 0.65), (0.3, 0.75), 'reward R_t', bidirectional=True)\n",
    "bd.add_arrow((0.3, 0.15), (0.3, 0.25), 'state S_t+1', bidirectional=True)\n",
    "bd.add_arrow((0.3, 0.05), (0.3, -0.05), 'reward R_t+1', text_pos=(0.3, 0))\n",
    "bd.add_arrow((0.2, 0.25), (0.1, 0.25), 'state S_t', text_pos=(0.15, 0.25))"
   ]
  },
  {
   "cell_type": "code",
   "execution_count": 79,
   "metadata": {},
   "outputs": [
    {
     "data": {
      "text/plain": [
       "<Figure size 640x480 with 0 Axes>"
      ]
     },
     "metadata": {},
     "output_type": "display_data"
    }
   ],
   "source": [
    "# Saving the figure\n",
    "plt.savefig('nanoSWAI_NN_diagram.png', bbox_inches='tight', dpi=300)\n",
    "plt.show()"
   ]
  }
 ],
 "metadata": {
  "kernelspec": {
   "display_name": "base",
   "language": "python",
   "name": "python3"
  },
  "language_info": {
   "codemirror_mode": {
    "name": "ipython",
    "version": 3
   },
   "file_extension": ".py",
   "mimetype": "text/x-python",
   "name": "python",
   "nbconvert_exporter": "python",
   "pygments_lexer": "ipython3",
   "version": "3.11.7"
  }
 },
 "nbformat": 4,
 "nbformat_minor": 2
}
