import matplotlib.pyplot as plt
import matplotlib.patches as patches

# Create a figure and a single subplot
fig, ax = plt.subplots(figsize=(7, 3.36))

# Hide axes
ax.axis('off')

# Agent and Environment boxes
agent_rect = patches.Rectangle((0.4, 0.6), 0.2, 0.2, linewidth=1, edgecolor='black', facecolor='none')
env_rect = patches.Rectangle((0.4, 0.2), 0.2, 0.2, linewidth=1, edgecolor='black', facecolor='none')
ax.add_patch(agent_rect)
ax.add_patch(env_rect)

# Labels
ax.text(0.5, 0.7, 'Agent', horizontalalignment='center', verticalalignment='center')
ax.text(0.5, 0.3, 'Environment', horizontalalignment='center', verticalalignment='center')
ax.text(0.1, 0.67, 'state $S_t$', horizontalalignment='left', verticalalignment='center')
ax.text(0.1, 0.37, 'reward $R_t$', horizontalalignment='left', verticalalignment='center')
ax.text(0.85, 0.67, 'action $A_t$', horizontalalignment='right', verticalalignment='center')
ax.text(0.8, 0.37, '$R_{t+1}$', horizontalalignment='left', verticalalignment='center')
ax.text(0.8, 0.23, '$S_{t+1}$', horizontalalignment='left', verticalalignment='center')

# Arrows
ax.annotate('', xy=(0.4, 0.7), xytext=(0.1, 0.7), arrowprops=dict(arrowstyle='<|-', lw=1))
ax.annotate('', xy=(0.6, 0.7), xytext=(0.85, 0.7), arrowprops=dict(arrowstyle='<|-', lw=1))
ax.annotate('', xy=(0.6, 0.3), xytext=(0.4, 0.3), arrowprops=dict(arrowstyle='<|-', lw=1))
ax.annotate('', xy=(0.4, 0.3), xytext=(0.1, 0.3), arrowprops=dict(arrowstyle='<|-', lw=1))
# Loop arrow from Environment to Agent
ax.annotate('', xy=(0.55, 0.75), xytext=(0.55, 0.25), arrowprops=dict(arrowstyle='<|-', lw=1, connectionstyle='arc3,rad=.5'))

# Dashed line from Environment forward
ax.annotate('', xy=(0.7, 0.3), xytext=(0.8, 0.3), arrowprops=dict(arrowstyle='<|-', lw=1, linestyle='dashed'))

# Dashed line down from the action arrow
ax.annotate('', xy=(0.7, 0.7), xytext=(0.7, 0.3), arrowprops=dict(arrowstyle='<|-', lw=1, linestyle='dashed'))

# Saving the figure
plt.savefig('/mnt/data/agent_environment_diagram.png', bbox_inches='tight', dpi=300)
plt.show()

